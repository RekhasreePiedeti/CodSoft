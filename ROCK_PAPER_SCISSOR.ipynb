{
  "nbformat": 4,
  "nbformat_minor": 0,
  "metadata": {
    "colab": {
      "provenance": [],
      "authorship_tag": "ABX9TyPVD7tr4GFXsha0ft6q5js6",
      "include_colab_link": true
    },
    "kernelspec": {
      "name": "python3",
      "display_name": "Python 3"
    },
    "language_info": {
      "name": "python"
    }
  },
  "cells": [
    {
      "cell_type": "markdown",
      "metadata": {
        "id": "view-in-github",
        "colab_type": "text"
      },
      "source": [
        "<a href=\"https://colab.research.google.com/github/RekhasreePiedeti/CodSoft/blob/main/ROCK_PAPER_SCISSOR.ipynb\" target=\"_parent\"><img src=\"https://colab.research.google.com/assets/colab-badge.svg\" alt=\"Open In Colab\"/></a>"
      ]
    },
    {
      "cell_type": "code",
      "execution_count": 1,
      "metadata": {
        "colab": {
          "base_uri": "https://localhost:8080/"
        },
        "id": "4R7T_njRXOBB",
        "outputId": "1241d3f9-182e-4576-8dd4-ad56a7c63386"
      },
      "outputs": [
        {
          "name": "stdout",
          "output_type": "stream",
          "text": [
            "Welcome to Rock, Paper, Scissors!\n",
            "Choose your move: rock, paper, or scissors\n",
            "Your choice: rock\n",
            "\n",
            "You chose: rock\n",
            "The computer chose: scissors\n",
            "Result: You win!\n",
            "\n",
            "Your score: 1\n",
            "Computer's score: 0\n",
            "Do you want to play again? (yes/no): yes\n",
            "Welcome to Rock, Paper, Scissors!\n",
            "Choose your move: rock, paper, or scissors\n",
            "Your choice: paper\n",
            "\n",
            "You chose: paper\n",
            "The computer chose: scissors\n",
            "Result: You lose!\n",
            "\n",
            "Your score: 1\n",
            "Computer's score: 1\n",
            "Do you want to play again? (yes/no): yes\n",
            "Welcome to Rock, Paper, Scissors!\n",
            "Choose your move: rock, paper, or scissors\n",
            "Your choice: scissors\n",
            "\n",
            "You chose: scissors\n",
            "The computer chose: scissors\n",
            "Result: It's a tie!\n",
            "\n",
            "Your score: 1\n",
            "Computer's score: 1\n",
            "Do you want to play again? (yes/no): no\n"
          ]
        }
      ],
      "source": [
        "import random\n",
        "\n",
        "def determine_winner(user_choice, computer_choice):\n",
        "    if user_choice == computer_choice:\n",
        "        return \"It's a tie!\"\n",
        "    elif (user_choice == 'rock' and computer_choice == 'scissors') or \\\n",
        "         (user_choice == 'scissors' and computer_choice == 'paper') or \\\n",
        "         (user_choice == 'paper' and computer_choice == 'rock'):\n",
        "        return \"You win!\"\n",
        "    else:\n",
        "        return \"You lose!\"\n",
        "\n",
        "def play_game():\n",
        "    user_score = 0\n",
        "    computer_score = 0\n",
        "\n",
        "    while True:\n",
        "        print(\"Welcome to Rock, Paper, Scissors!\")\n",
        "        print(\"Choose your move: rock, paper, or scissors\")\n",
        "        user_choice = input(\"Your choice: \").lower()\n",
        "\n",
        "        if user_choice not in ['rock', 'paper', 'scissors']:\n",
        "            print(\"Invalid choice. Please choose from rock, paper, or scissors.\")\n",
        "            continue\n",
        "\n",
        "        computer_choice = random.choice(['rock', 'paper', 'scissors'])\n",
        "\n",
        "        print(f\"\\nYou chose: {user_choice}\")\n",
        "        print(f\"The computer chose: {computer_choice}\")\n",
        "\n",
        "        result = determine_winner(user_choice, computer_choice)\n",
        "        print(f\"Result: {result}\\n\")\n",
        "\n",
        "        if result == \"You win!\":\n",
        "            user_score += 1\n",
        "        elif result == \"You lose!\":\n",
        "            computer_score += 1\n",
        "\n",
        "        print(f\"Your score: {user_score}\")\n",
        "        print(f\"Computer's score: {computer_score}\")\n",
        "\n",
        "        play_again = input(\"Do you want to play again? (yes/no): \").lower()\n",
        "        if play_again != 'yes':\n",
        "            break\n",
        "\n",
        "if __name__ == \"__main__\":\n",
        "    play_game()\n"
      ]
    }
  ]
}