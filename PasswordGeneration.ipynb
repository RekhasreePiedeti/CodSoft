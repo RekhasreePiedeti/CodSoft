{
  "nbformat": 4,
  "nbformat_minor": 0,
  "metadata": {
    "colab": {
      "provenance": [],
      "authorship_tag": "ABX9TyPTkekxDdeCWyEua7nz5zUr",
      "include_colab_link": true
    },
    "kernelspec": {
      "name": "python3",
      "display_name": "Python 3"
    },
    "language_info": {
      "name": "python"
    }
  },
  "cells": [
    {
      "cell_type": "markdown",
      "metadata": {
        "id": "view-in-github",
        "colab_type": "text"
      },
      "source": [
        "<a href=\"https://colab.research.google.com/github/RekhasreePiedeti/CodSoft/blob/main/PasswordGeneration.ipynb\" target=\"_parent\"><img src=\"https://colab.research.google.com/assets/colab-badge.svg\" alt=\"Open In Colab\"/></a>"
      ]
    },
    {
      "cell_type": "code",
      "execution_count": 1,
      "metadata": {
        "colab": {
          "base_uri": "https://localhost:8080/"
        },
        "id": "cAgevrYZVs7b",
        "outputId": "343405cf-42b7-425a-d4b1-b6a5f523b466"
      },
      "outputs": [
        {
          "output_type": "stream",
          "name": "stdout",
          "text": [
            "Enter the desired length of the password: 4\n",
            "Generated Password: biau\n"
          ]
        }
      ],
      "source": [
        "import random\n",
        "import string\n",
        "\n",
        "# Function to generate a random password\n",
        "def generate_password(length):\n",
        "    # Define character sets for password complexity\n",
        "    lower_letters = string.ascii_lowercase\n",
        "    upper_letters = string.ascii_uppercase\n",
        "    digits = string.digits\n",
        "    special_chars = string.punctuation\n",
        "\n",
        "    # Combine character sets based on complexity\n",
        "    if length < 4:\n",
        "        charset = lower_letters\n",
        "    elif length < 8:\n",
        "        charset = lower_letters + upper_letters\n",
        "    elif length < 12:\n",
        "        charset = lower_letters + upper_letters + digits\n",
        "    else:\n",
        "        charset = lower_letters + upper_letters + digits + special_chars\n",
        "\n",
        "    # Generate the password\n",
        "    password = ''.join(random.choice(charset) for _ in range(length))\n",
        "    return password\n",
        "\n",
        "# Get user input for password length\n",
        "try:\n",
        "    length = int(input(\"Enter the desired length of the password: \"))\n",
        "    if length <= 0:\n",
        "        print(\"Password length must be a positive integer.\")\n",
        "    else:\n",
        "        password = generate_password(length)\n",
        "        print(\"Generated Password:\", password)\n",
        "except ValueError:\n",
        "    print(\"Invalid input. Please enter a valid positive integer for password length.\")\n"
      ]
    }
  ]
}